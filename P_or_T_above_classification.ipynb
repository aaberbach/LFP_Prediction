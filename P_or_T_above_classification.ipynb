{
 "cells": [
  {
   "cell_type": "code",
   "execution_count": 1,
   "metadata": {},
   "outputs": [],
   "source": [
    "%reload_ext autoreload\n",
    "%autoreload 2\n",
    "%matplotlib inline"
   ]
  },
  {
   "cell_type": "code",
   "execution_count": 2,
   "metadata": {},
   "outputs": [],
   "source": [
    "import fastai\n",
    "from fastai.text import *\n",
    "from fastai.vision import *\n",
    "from fastai.utils.mem import *\n",
    "from fastai.tabular import *\n",
    "import scipy.signal as s"
   ]
  },
  {
   "cell_type": "code",
   "execution_count": 3,
   "metadata": {},
   "outputs": [],
   "source": [
    "path = Path(\"data/LFP_Prediction\")"
   ]
  },
  {
   "cell_type": "code",
   "execution_count": 4,
   "metadata": {},
   "outputs": [
    {
     "data": {
      "text/plain": [
       "[PosixPath('data/LFP_Prediction/lfp_labels.csv'),\n",
       " PosixPath('data/LFP_Prediction/model_LFP_and_FR.csv'),\n",
       " PosixPath('data/LFP_Prediction/LFP_y_hilb'),\n",
       " PosixPath('data/LFP_Prediction/model_fr_lfp.csv')]"
      ]
     },
     "execution_count": 4,
     "metadata": {},
     "output_type": "execute_result"
    }
   ],
   "source": [
    "path.ls()"
   ]
  },
  {
   "cell_type": "code",
   "execution_count": 5,
   "metadata": {},
   "outputs": [],
   "source": [
    "labels = pd.read_csv(path/\"lfp_labels.csv\", index_col = \"start\")"
   ]
  },
  {
   "cell_type": "code",
   "execution_count": 6,
   "metadata": {},
   "outputs": [],
   "source": [
    "df = pd.read_csv(path/\"model_fr_lfp.csv\", header = None)"
   ]
  },
  {
   "cell_type": "code",
   "execution_count": 7,
   "metadata": {},
   "outputs": [],
   "source": [
    "df = df.iloc[:len(labels)]"
   ]
  },
  {
   "cell_type": "code",
   "execution_count": 8,
   "metadata": {},
   "outputs": [
    {
     "data": {
      "text/html": [
       "<div>\n",
       "<style scoped>\n",
       "    .dataframe tbody tr th:only-of-type {\n",
       "        vertical-align: middle;\n",
       "    }\n",
       "\n",
       "    .dataframe tbody tr th {\n",
       "        vertical-align: top;\n",
       "    }\n",
       "\n",
       "    .dataframe thead th {\n",
       "        text-align: right;\n",
       "    }\n",
       "</style>\n",
       "<table border=\"1\" class=\"dataframe\">\n",
       "  <thead>\n",
       "    <tr style=\"text-align: right;\">\n",
       "      <th></th>\n",
       "      <th>0</th>\n",
       "      <th>1</th>\n",
       "      <th>2</th>\n",
       "      <th>3</th>\n",
       "      <th>4</th>\n",
       "      <th>5</th>\n",
       "      <th>6</th>\n",
       "      <th>7</th>\n",
       "      <th>8</th>\n",
       "      <th>9</th>\n",
       "      <th>10</th>\n",
       "      <th>11</th>\n",
       "      <th>12</th>\n",
       "      <th>13</th>\n",
       "      <th>14</th>\n",
       "      <th>15</th>\n",
       "      <th>16</th>\n",
       "      <th>17</th>\n",
       "    </tr>\n",
       "  </thead>\n",
       "  <tbody>\n",
       "    <tr>\n",
       "      <th>0</th>\n",
       "      <td>3.2895</td>\n",
       "      <td>1.40650</td>\n",
       "      <td>1.2063</td>\n",
       "      <td>1.40850</td>\n",
       "      <td>0.00000</td>\n",
       "      <td>0.0000</td>\n",
       "      <td>1.1641</td>\n",
       "      <td>1.7817</td>\n",
       "      <td>1.6214</td>\n",
       "      <td>0.0000</td>\n",
       "      <td>0.000</td>\n",
       "      <td>6.135</td>\n",
       "      <td>12.291</td>\n",
       "      <td>9.4093</td>\n",
       "      <td>7.5567</td>\n",
       "      <td>3.08700</td>\n",
       "      <td>0.318140</td>\n",
       "      <td>0.48574</td>\n",
       "    </tr>\n",
       "    <tr>\n",
       "      <th>1</th>\n",
       "      <td>0.0000</td>\n",
       "      <td>3.75060</td>\n",
       "      <td>1.3786</td>\n",
       "      <td>2.03440</td>\n",
       "      <td>0.76923</td>\n",
       "      <td>0.0000</td>\n",
       "      <td>1.1641</td>\n",
       "      <td>1.3363</td>\n",
       "      <td>1.2161</td>\n",
       "      <td>3.8685</td>\n",
       "      <td>0.000</td>\n",
       "      <td>12.270</td>\n",
       "      <td>15.642</td>\n",
       "      <td>15.6820</td>\n",
       "      <td>5.0378</td>\n",
       "      <td>-2.18430</td>\n",
       "      <td>0.021294</td>\n",
       "      <td>0.62928</td>\n",
       "    </tr>\n",
       "    <tr>\n",
       "      <th>2</th>\n",
       "      <td>3.2895</td>\n",
       "      <td>1.87530</td>\n",
       "      <td>1.3786</td>\n",
       "      <td>2.03440</td>\n",
       "      <td>3.07690</td>\n",
       "      <td>0.0000</td>\n",
       "      <td>4.6566</td>\n",
       "      <td>1.7817</td>\n",
       "      <td>1.6214</td>\n",
       "      <td>1.9342</td>\n",
       "      <td>0.000</td>\n",
       "      <td>10.736</td>\n",
       "      <td>11.173</td>\n",
       "      <td>10.4550</td>\n",
       "      <td>5.0378</td>\n",
       "      <td>-2.50610</td>\n",
       "      <td>-0.242560</td>\n",
       "      <td>0.58209</td>\n",
       "    </tr>\n",
       "    <tr>\n",
       "      <th>3</th>\n",
       "      <td>0.0000</td>\n",
       "      <td>0.93765</td>\n",
       "      <td>1.2063</td>\n",
       "      <td>0.93897</td>\n",
       "      <td>2.30770</td>\n",
       "      <td>0.0000</td>\n",
       "      <td>3.4924</td>\n",
       "      <td>1.7817</td>\n",
       "      <td>2.0268</td>\n",
       "      <td>1.9342</td>\n",
       "      <td>0.000</td>\n",
       "      <td>12.270</td>\n",
       "      <td>16.760</td>\n",
       "      <td>10.9780</td>\n",
       "      <td>7.5567</td>\n",
       "      <td>0.30809</td>\n",
       "      <td>-0.430020</td>\n",
       "      <td>0.60523</td>\n",
       "    </tr>\n",
       "    <tr>\n",
       "      <th>4</th>\n",
       "      <td>3.2895</td>\n",
       "      <td>0.93765</td>\n",
       "      <td>1.2063</td>\n",
       "      <td>1.40850</td>\n",
       "      <td>1.53850</td>\n",
       "      <td>8.1967</td>\n",
       "      <td>1.1641</td>\n",
       "      <td>1.3363</td>\n",
       "      <td>2.0268</td>\n",
       "      <td>1.9342</td>\n",
       "      <td>18.519</td>\n",
       "      <td>12.270</td>\n",
       "      <td>13.408</td>\n",
       "      <td>11.5000</td>\n",
       "      <td>0.0000</td>\n",
       "      <td>1.04120</td>\n",
       "      <td>-0.526600</td>\n",
       "      <td>0.56868</td>\n",
       "    </tr>\n",
       "  </tbody>\n",
       "</table>\n",
       "</div>"
      ],
      "text/plain": [
       "       0        1       2        3        4       5       6       7       8   \\\n",
       "0  3.2895  1.40650  1.2063  1.40850  0.00000  0.0000  1.1641  1.7817  1.6214   \n",
       "1  0.0000  3.75060  1.3786  2.03440  0.76923  0.0000  1.1641  1.3363  1.2161   \n",
       "2  3.2895  1.87530  1.3786  2.03440  3.07690  0.0000  4.6566  1.7817  1.6214   \n",
       "3  0.0000  0.93765  1.2063  0.93897  2.30770  0.0000  3.4924  1.7817  2.0268   \n",
       "4  3.2895  0.93765  1.2063  1.40850  1.53850  8.1967  1.1641  1.3363  2.0268   \n",
       "\n",
       "       9       10      11      12       13      14       15        16       17  \n",
       "0  0.0000   0.000   6.135  12.291   9.4093  7.5567  3.08700  0.318140  0.48574  \n",
       "1  3.8685   0.000  12.270  15.642  15.6820  5.0378 -2.18430  0.021294  0.62928  \n",
       "2  1.9342   0.000  10.736  11.173  10.4550  5.0378 -2.50610 -0.242560  0.58209  \n",
       "3  1.9342   0.000  12.270  16.760  10.9780  7.5567  0.30809 -0.430020  0.60523  \n",
       "4  1.9342  18.519  12.270  13.408  11.5000  0.0000  1.04120 -0.526600  0.56868  "
      ]
     },
     "execution_count": 8,
     "metadata": {},
     "output_type": "execute_result"
    }
   ],
   "source": [
    "df.head()"
   ]
  },
  {
   "cell_type": "code",
   "execution_count": 18,
   "metadata": {},
   "outputs": [],
   "source": [
    "class TimeWindow(ItemBase):\n",
    "    def __init__(self, time_window):\n",
    "        self.obj = (time_window)\n",
    "        self.data = torch.Tensor(time_window)\n",
    "        self.data = self.data[None]\n",
    "        \n",
    "    def to_one(self): return self.data\n",
    "    \n",
    "    def apply_tfms(self, tfms, **kwargs):\n",
    "        return\n",
    "    \n",
    "    def __repr__(self):\n",
    "        return \"A time points plus\""
   ]
  },
  {
   "cell_type": "code",
   "execution_count": 19,
   "metadata": {},
   "outputs": [],
   "source": [
    "class TimeWindowList(ItemList):\n",
    "    _label_cls = CategoryList\n",
    "    def __init__(self, items, num_back, num_forward, **kwargs):\n",
    "        self.its = items\n",
    "        super().__init__(items[:-(num_back + num_forward)], **kwargs)\n",
    "        self.num_forward = num_forward\n",
    "        self.num_back = num_back\n",
    "        self.copy_new.append(\"num_back\")\n",
    "        self.copy_new.append(\"num_forward\")\n",
    "        \n",
    "    def get(self, i):\n",
    "        return TimeWindow(self.its[i : self.num_back + i, :-1])\n",
    "    \n",
    "    def reconstruct(self, t:Tensor):\n",
    "        return TimeWindow(t)\n",
    "    \n",
    "    def __len__(self):\n",
    "        return len(self.its) - self.num_back - self.num_forward\n",
    "    \n",
    "    def label_from_func(self, func:Callable, label_cls:Callable=None, **kwargs)->'LabelList':\n",
    "        \"Apply `func` to every input to get its label.\"\n",
    "        return self._label_from_list([self.label_func(o) for o in range(0, len(self))], label_cls=label_cls, **kwargs)\n",
    "    \n",
    "    def label_func(self, i):\n",
    "        #return torch.Tensor(int(1 in self.its[i + self.num_back: i + self.num_back + self.num_forward, 3]))[None]\n",
    "        return int(self.its[i + num_back, -1])"
   ]
  },
  {
   "cell_type": "code",
   "execution_count": 20,
   "metadata": {},
   "outputs": [],
   "source": [
    "num_back = 100\n",
    "num_forward = 10"
   ]
  },
  {
   "cell_type": "code",
   "execution_count": 433,
   "metadata": {},
   "outputs": [],
   "source": [
    "data_input = np.stack([df[i] for i in range(16)] + [labels.P_or_T_above], axis = -1)"
   ]
  },
  {
   "cell_type": "code",
   "execution_count": 434,
   "metadata": {},
   "outputs": [],
   "source": [
    "#Replicating each true sample once\n",
    "index = 0\n",
    "while(index < len(data_input)):\n",
    "    if data_input[index][-1] == 1:\n",
    "        data_input = np.insert(data_input, index, data_input[index], axis = 0)\n",
    "        index += 1\n",
    "    index += 1"
   ]
  },
  {
   "cell_type": "code",
   "execution_count": 435,
   "metadata": {},
   "outputs": [
    {
     "data": {
      "text/plain": [
       "(58021, 17)"
      ]
     },
     "execution_count": 435,
     "metadata": {},
     "output_type": "execute_result"
    }
   ],
   "source": [
    "data_input.shape"
   ]
  },
  {
   "cell_type": "code",
   "execution_count": 187,
   "metadata": {},
   "outputs": [],
   "source": [
    "data = (TimeWindowList(data_input, num_back, num_forward)\n",
    "                .split_by_idx(range(40000, len(data_input) - num_back - num_forward))\n",
    "                .label_from_func(lambda x: x)\n",
    "                .databunch(bs = 64))"
   ]
  },
  {
   "cell_type": "code",
   "execution_count": 188,
   "metadata": {},
   "outputs": [
    {
     "data": {
      "text/plain": [
       "DataBunch;\n",
       "\n",
       "Train: LabelList (39890 items)\n",
       "x: TimeWindowList\n",
       "A time points plus,A time points plus,A time points plus,A time points plus,A time points plus\n",
       "y: CategoryList\n",
       "0,0,0,0,0\n",
       "Path: .;\n",
       "\n",
       "Valid: LabelList (17801 items)\n",
       "x: TimeWindowList\n",
       "A time points plus,A time points plus,A time points plus,A time points plus,A time points plus\n",
       "y: CategoryList\n",
       "0,0,0,0,0\n",
       "Path: .;\n",
       "\n",
       "Test: None"
      ]
     },
     "execution_count": 188,
     "metadata": {},
     "output_type": "execute_result"
    }
   ],
   "source": [
    "data"
   ]
  },
  {
   "cell_type": "code",
   "execution_count": 216,
   "metadata": {},
   "outputs": [],
   "source": [
    "class PaperModel(nn.Module):\n",
    "    def __init__(self, out_size, num_features):\n",
    "        super().__init__()\n",
    "        self.convs = nn.Sequential(\n",
    "            nn.Conv2d(1, 64, kernel_size = (8, 1), stride = (2, 1), padding = (3, 0)),\n",
    "            nn.ReLU(),\n",
    "            nn.BatchNorm2d(64),\n",
    "            nn.Dropout(0.25),\n",
    "            nn.Conv2d(64, 128, kernel_size = (6, 1), stride = (2, 1), padding = (2, 0)),\n",
    "            nn.ReLU(),\n",
    "            nn.BatchNorm2d(128),\n",
    "            nn.Dropout(0.25),\n",
    "            nn.Conv2d(128, 1, kernel_size = (1,1)),\n",
    "            nn.ReLU(),\n",
    "            nn.BatchNorm2d(1),\n",
    "            nn.Dropout(0.4),\n",
    "            nn.Conv1d(1, 1, kernel_size = (5, num_features), padding = (2, 7)),\n",
    "            nn.ReLU(),\n",
    "            nn.BatchNorm2d(1),\n",
    "            nn.Dropout(0.4),\n",
    "        )\n",
    "        self.lins = nn.Sequential(\n",
    "            nn.Linear(num_features * 25 - 25, 25),\n",
    "            nn.ReLU(),\n",
    "            nn.BatchNorm1d(25),\n",
    "            nn.Dropout(),\n",
    "            nn.Linear(25, out_size),\n",
    "        )\n",
    "        \n",
    "    def forward(self, x):\n",
    "        x = self.convs(x)\n",
    "        x = torch.flatten(x, start_dim = 1)\n",
    "        x = self.lins(x)\n",
    "        return x"
   ]
  },
  {
   "cell_type": "code",
   "execution_count": 217,
   "metadata": {},
   "outputs": [],
   "source": [
    "def isNan(num):\n",
    "    return num != num"
   ]
  },
  {
   "cell_type": "code",
   "execution_count": 218,
   "metadata": {},
   "outputs": [],
   "source": [
    "def true_acc(input:Tensor, targs:Tensor)->Rank0Tensor:\n",
    "    \"Computes accuracy with `targs` when `input` is bs * n_classes.\"\n",
    "    n = targs.shape[0]\n",
    "    input = input.argmax(dim=-1).view(n,-1)\n",
    "    targs = targs.view(n,-1)\n",
    "    mask = targs == 1\n",
    "    acc = float((input[mask]==targs[mask]).float().mean())\n",
    "    if isNan(acc):\n",
    "        return torch.Tensor([0.0]).cuda().mean()\n",
    "    else:\n",
    "        return (input[mask]==targs[mask]).float().mean()"
   ]
  },
  {
   "cell_type": "code",
   "execution_count": 219,
   "metadata": {},
   "outputs": [],
   "source": [
    "def false_acc(input:Tensor, targs:Tensor)->Rank0Tensor:\n",
    "    \"Computes accuracy with `targs` when `input` is bs * n_classes.\"\n",
    "    n = targs.shape[0]\n",
    "    input = input.argmax(dim=-1).view(n,-1)\n",
    "    targs = targs.view(n,-1)\n",
    "    mask = targs == 0\n",
    "    acc = float((input[mask]==targs[mask]).float().mean())\n",
    "    if isNan(acc):\n",
    "        return torch.Tensor([0.0]).cuda().mean()\n",
    "    else:\n",
    "        return (input[mask]==targs[mask]).float().mean()"
   ]
  },
  {
   "cell_type": "code",
   "execution_count": 220,
   "metadata": {},
   "outputs": [],
   "source": [
    "learn = Learner(data, PaperModel(2, 16), loss_func = torch.nn.modules.loss.CrossEntropyLoss(weight = torch.Tensor([1, 4]).cuda()), \n",
    "                metrics = [accuracy, true_acc, false_acc], wd = 1e-1)"
   ]
  },
  {
   "cell_type": "code",
   "execution_count": 221,
   "metadata": {},
   "outputs": [
    {
     "data": {
      "text/html": [],
      "text/plain": [
       "<IPython.core.display.HTML object>"
      ]
     },
     "metadata": {},
     "output_type": "display_data"
    },
    {
     "name": "stdout",
     "output_type": "stream",
     "text": [
      "LR Finder is complete, type {learner_name}.recorder.plot() to see the graph.\n"
     ]
    }
   ],
   "source": [
    "learn.lr_find()"
   ]
  },
  {
   "cell_type": "code",
   "execution_count": 222,
   "metadata": {},
   "outputs": [
    {
     "name": "stdout",
     "output_type": "stream",
     "text": [
      "Min numerical gradient: 1.74E-01\n",
      "Min loss divided by 10: 3.02E-02\n"
     ]
    },
    {
     "data": {
      "image/png": "[encoded data removed]",
      "text/plain": [
       "<Figure size 432x288 with 1 Axes>"
      ]
     },
     "metadata": {
      "needs_background": "light"
     },
     "output_type": "display_data"
    }
   ],
   "source": [
    "learn.recorder.plot(skip_end = 10, suggestion=True)"
   ]
  },
  {
   "cell_type": "code",
   "execution_count": 223,
   "metadata": {},
   "outputs": [],
   "source": [
    "lr = 1e-3"
   ]
  },
  {
   "cell_type": "code",
   "execution_count": 224,
   "metadata": {
    "scrolled": true
   },
   "outputs": [
    {
     "data": {
      "text/html": [
       "<table border=\"1\" class=\"dataframe\">\n",
       "  <thead>\n",
       "    <tr style=\"text-align: left;\">\n",
       "      <th>epoch</th>\n",
       "      <th>train_loss</th>\n",
       "      <th>valid_loss</th>\n",
       "      <th>accuracy</th>\n",
       "      <th>true_acc</th>\n",
       "      <th>false_acc</th>\n",
       "      <th>time</th>\n",
       "    </tr>\n",
       "  </thead>\n",
       "  <tbody>\n",
       "    <tr>\n",
       "      <td>0</td>\n",
       "      <td>0.543743</td>\n",
       "      <td>0.629610</td>\n",
       "      <td>0.525139</td>\n",
       "      <td>0.472580</td>\n",
       "      <td>0.276620</td>\n",
       "      <td>00:11</td>\n",
       "    </tr>\n",
       "    <tr>\n",
       "      <td>1</td>\n",
       "      <td>0.215998</td>\n",
       "      <td>0.145094</td>\n",
       "      <td>0.966856</td>\n",
       "      <td>0.436647</td>\n",
       "      <td>0.866449</td>\n",
       "      <td>00:11</td>\n",
       "    </tr>\n",
       "    <tr>\n",
       "      <td>2</td>\n",
       "      <td>0.150846</td>\n",
       "      <td>0.132688</td>\n",
       "      <td>0.972249</td>\n",
       "      <td>0.441716</td>\n",
       "      <td>0.876654</td>\n",
       "      <td>00:11</td>\n",
       "    </tr>\n",
       "    <tr>\n",
       "      <td>3</td>\n",
       "      <td>0.176936</td>\n",
       "      <td>0.123750</td>\n",
       "      <td>0.975788</td>\n",
       "      <td>0.440193</td>\n",
       "      <td>0.885457</td>\n",
       "      <td>00:11</td>\n",
       "    </tr>\n",
       "    <tr>\n",
       "      <td>4</td>\n",
       "      <td>0.155144</td>\n",
       "      <td>0.118097</td>\n",
       "      <td>0.976911</td>\n",
       "      <td>0.444447</td>\n",
       "      <td>0.887115</td>\n",
       "      <td>00:11</td>\n",
       "    </tr>\n",
       "    <tr>\n",
       "      <td>5</td>\n",
       "      <td>0.168297</td>\n",
       "      <td>0.114601</td>\n",
       "      <td>0.977529</td>\n",
       "      <td>0.448103</td>\n",
       "      <td>0.886269</td>\n",
       "      <td>00:11</td>\n",
       "    </tr>\n",
       "    <tr>\n",
       "      <td>6</td>\n",
       "      <td>0.142131</td>\n",
       "      <td>0.110125</td>\n",
       "      <td>0.978934</td>\n",
       "      <td>0.446989</td>\n",
       "      <td>0.889198</td>\n",
       "      <td>00:11</td>\n",
       "    </tr>\n",
       "    <tr>\n",
       "      <td>7</td>\n",
       "      <td>0.148235</td>\n",
       "      <td>0.110186</td>\n",
       "      <td>0.978934</td>\n",
       "      <td>0.445447</td>\n",
       "      <td>0.890569</td>\n",
       "      <td>00:11</td>\n",
       "    </tr>\n",
       "    <tr>\n",
       "      <td>8</td>\n",
       "      <td>0.160584</td>\n",
       "      <td>0.106225</td>\n",
       "      <td>0.979215</td>\n",
       "      <td>0.450052</td>\n",
       "      <td>0.888843</td>\n",
       "      <td>00:11</td>\n",
       "    </tr>\n",
       "    <tr>\n",
       "      <td>9</td>\n",
       "      <td>0.149608</td>\n",
       "      <td>0.108673</td>\n",
       "      <td>0.979271</td>\n",
       "      <td>0.450379</td>\n",
       "      <td>0.888787</td>\n",
       "      <td>00:11</td>\n",
       "    </tr>\n",
       "  </tbody>\n",
       "</table>"
      ],
      "text/plain": [
       "<IPython.core.display.HTML object>"
      ]
     },
     "metadata": {},
     "output_type": "display_data"
    }
   ],
   "source": [
    "learn.fit_one_cycle(10, lr)"
   ]
  },
  {
   "cell_type": "code",
   "execution_count": 436,
   "metadata": {},
   "outputs": [],
   "source": [
    "learn.save(\"P_or_T_above\")"
   ]
  },
  {
   "cell_type": "markdown",
   "metadata": {},
   "source": [
    "## Results"
   ]
  },
  {
   "cell_type": "code",
   "execution_count": 225,
   "metadata": {},
   "outputs": [
    {
     "data": {
      "text/html": [],
      "text/plain": [
       "<IPython.core.display.HTML object>"
      ]
     },
     "metadata": {},
     "output_type": "display_data"
    }
   ],
   "source": [
    "interp = ClassificationInterpretation.from_learner(learn)"
   ]
  },
  {
   "cell_type": "code",
   "execution_count": 226,
   "metadata": {
    "scrolled": true
   },
   "outputs": [
    {
     "data": {
      "image/png": "[encoded data removed]",
      "text/plain": [
       "<Figure size 432x288 with 1 Axes>"
      ]
     },
     "metadata": {
      "needs_background": "light"
     },
     "output_type": "display_data"
    }
   ],
   "source": [
    "interp.plot_confusion_matrix()"
   ]
  },
  {
   "cell_type": "code",
   "execution_count": 437,
   "metadata": {},
   "outputs": [],
   "source": [
    "confusion = interp.confusion_matrix()"
   ]
  },
  {
   "cell_type": "code",
   "execution_count": 439,
   "metadata": {},
   "outputs": [
    {
     "data": {
      "text/plain": [
       "0.9630268199233717"
      ]
     },
     "execution_count": 439,
     "metadata": {},
     "output_type": "execute_result"
    }
   ],
   "source": [
    "#Above accuracy\n",
    "confusion[1][1] / confusion[1].sum()"
   ]
  },
  {
   "cell_type": "code",
   "execution_count": 441,
   "metadata": {
    "scrolled": true
   },
   "outputs": [
    {
     "data": {
      "text/plain": [
       "0.986010650981639"
      ]
     },
     "execution_count": 441,
     "metadata": {},
     "output_type": "execute_result"
    }
   ],
   "source": [
    "#Not above accuracy\n",
    "confusion[0][0] / confusion[0].sum()"
   ]
  },
  {
   "cell_type": "markdown",
   "metadata": {},
   "source": [
    "## Explainability"
   ]
  },
  {
   "cell_type": "code",
   "execution_count": 228,
   "metadata": {},
   "outputs": [],
   "source": [
    "from fastai.callbacks.hooks import *"
   ]
  },
  {
   "cell_type": "code",
   "execution_count": 229,
   "metadata": {},
   "outputs": [],
   "source": [
    "m = learn.model.eval()"
   ]
  },
  {
   "cell_type": "code",
   "execution_count": 230,
   "metadata": {},
   "outputs": [
    {
     "data": {
      "text/plain": [
       "PaperModel(\n",
       "  (convs): Sequential(\n",
       "    (0): Conv2d(1, 64, kernel_size=(8, 1), stride=(2, 1), padding=(3, 0))\n",
       "    (1): ReLU()\n",
       "    (2): BatchNorm2d(64, eps=1e-05, momentum=0.1, affine=True, track_running_stats=True)\n",
       "    (3): Dropout(p=0.25)\n",
       "    (4): Conv2d(64, 128, kernel_size=(6, 1), stride=(2, 1), padding=(2, 0))\n",
       "    (5): ReLU()\n",
       "    (6): BatchNorm2d(128, eps=1e-05, momentum=0.1, affine=True, track_running_stats=True)\n",
       "    (7): Dropout(p=0.25)\n",
       "    (8): Conv2d(128, 1, kernel_size=(1, 1), stride=(1, 1))\n",
       "    (9): ReLU()\n",
       "    (10): BatchNorm2d(1, eps=1e-05, momentum=0.1, affine=True, track_running_stats=True)\n",
       "    (11): Dropout(p=0.4)\n",
       "    (12): Conv1d(1, 1, kernel_size=(5, 16), stride=(1,), padding=(2, 7))\n",
       "    (13): ReLU()\n",
       "    (14): BatchNorm2d(1, eps=1e-05, momentum=0.1, affine=True, track_running_stats=True)\n",
       "    (15): Dropout(p=0.4)\n",
       "  )\n",
       "  (lins): Sequential(\n",
       "    (0): Linear(in_features=375, out_features=25, bias=True)\n",
       "    (1): ReLU()\n",
       "    (2): BatchNorm1d(25, eps=1e-05, momentum=0.1, affine=True, track_running_stats=True)\n",
       "    (3): Dropout(p=0.5)\n",
       "    (4): Linear(in_features=25, out_features=2, bias=True)\n",
       "  )\n",
       ")"
      ]
     },
     "execution_count": 230,
     "metadata": {},
     "output_type": "execute_result"
    }
   ],
   "source": [
    "m"
   ]
  },
  {
   "cell_type": "code",
   "execution_count": 231,
   "metadata": {},
   "outputs": [],
   "source": [
    "def hooked_backward(cat, xb, layer):\n",
    "    with hook_output(m.convs[layer]) as hook_a: \n",
    "        with hook_output(m.convs[layer], grad=True) as hook_g:\n",
    "            preds = m(xb)\n",
    "            preds[0,int(cat)].backward()\n",
    "    return hook_a,hook_g"
   ]
  },
  {
   "cell_type": "code",
   "execution_count": 381,
   "metadata": {},
   "outputs": [],
   "source": [
    "def get_grad_cam(data, item, layer, m):\n",
    "    y = item[1]\n",
    "    xb, _ = data.one_item(item[0])\n",
    "    xb = xb.cuda()\n",
    "    hook_a,hook_g = hooked_backward(y, xb, layer)\n",
    "    acts = hook_a.stored[0].cpu()\n",
    "    \n",
    "    grad = hook_g.stored[0][0].cpu()\n",
    "    grad_chan = grad.mean(1).mean(1)\n",
    "    \n",
    "    return  np.transpose((acts*grad_chan[...,None,None]).mean(0))"
   ]
  },
  {
   "cell_type": "code",
   "execution_count": 382,
   "metadata": {},
   "outputs": [],
   "source": [
    "def percentize(features):\n",
    "    for i in range(len(features)):\n",
    "        features[i] = np.array([features[i][j] / features[i].max() for j in range(100)])\n",
    "        \n",
    "    return features"
   ]
  },
  {
   "cell_type": "code",
   "execution_count": 392,
   "metadata": {},
   "outputs": [],
   "source": [
    "relu = nn.ReLU()"
   ]
  },
  {
   "cell_type": "code",
   "execution_count": 410,
   "metadata": {},
   "outputs": [],
   "source": [
    "item = data.valid_ds[224]"
   ]
  },
  {
   "cell_type": "code",
   "execution_count": 411,
   "metadata": {},
   "outputs": [],
   "source": [
    "g = get_grad_cam(data, item, 5, m)"
   ]
  },
  {
   "cell_type": "code",
   "execution_count": 412,
   "metadata": {},
   "outputs": [],
   "source": [
    "g = relu(g)"
   ]
  },
  {
   "cell_type": "code",
   "execution_count": 413,
   "metadata": {},
   "outputs": [],
   "source": [
    "g = np.repeat(g, 4, 1)"
   ]
  },
  {
   "cell_type": "code",
   "execution_count": 414,
   "metadata": {},
   "outputs": [],
   "source": [
    "g = percentize(np.array(g))"
   ]
  },
  {
   "cell_type": "code",
   "execution_count": 415,
   "metadata": {},
   "outputs": [],
   "source": [
    "xs = np.array(item[0].data[0])"
   ]
  },
  {
   "cell_type": "code",
   "execution_count": 416,
   "metadata": {},
   "outputs": [
    {
     "data": {
      "text/plain": [
       "(100, 16)"
      ]
     },
     "execution_count": 416,
     "metadata": {},
     "output_type": "execute_result"
    }
   ],
   "source": [
    "xs.shape"
   ]
  },
  {
   "cell_type": "code",
   "execution_count": 417,
   "metadata": {},
   "outputs": [],
   "source": [
    "xs = np.transpose(xs)"
   ]
  },
  {
   "cell_type": "code",
   "execution_count": 418,
   "metadata": {},
   "outputs": [],
   "source": [
    "xs = percentize(xs)"
   ]
  },
  {
   "cell_type": "markdown",
   "metadata": {},
   "source": [
    "Data in heatmap form (This is a sample that had a peak/trough above)"
   ]
  },
  {
   "cell_type": "code",
   "execution_count": 420,
   "metadata": {
    "scrolled": true
   },
   "outputs": [
    {
     "data": {
      "image/png": "[encoded data removed]",
      "text/plain": [
       "<Figure size 720x720 with 2 Axes>"
      ]
     },
     "metadata": {
      "needs_background": "light"
     },
     "output_type": "display_data"
    }
   ],
   "source": [
    "plt.figure(figsize = (10, 10))\n",
    "plt.imshow(np.repeat(xs, 3, 0))\n",
    "plt.colorbar()\n",
    "plt.show()"
   ]
  },
  {
   "cell_type": "markdown",
   "metadata": {},
   "source": [
    "GradCam results of the same sample as above"
   ]
  },
  {
   "cell_type": "code",
   "execution_count": 442,
   "metadata": {},
   "outputs": [
    {
     "data": {
      "image/png": "[encoded data removed]",
      "text/plain": [
       "<Figure size 720x720 with 2 Axes>"
      ]
     },
     "metadata": {
      "needs_background": "light"
     },
     "output_type": "display_data"
    }
   ],
   "source": [
    "plt.figure(figsize = (10, 10))\n",
    "plt.imshow(np.repeat(g, 3, 0))\n",
    "plt.colorbar()\n",
    "plt.show()"
   ]
  },
  {
   "cell_type": "code",
   "execution_count": null,
   "metadata": {},
   "outputs": [],
   "source": []
  }
 ],
 "metadata": {
  "kernelspec": {
   "display_name": "Python 3",
   "language": "python",
   "name": "python3"
  },
  "language_info": {
   "codemirror_mode": {
    "name": "ipython",
    "version": 3
   },
   "file_extension": ".py",
   "mimetype": "text/x-python",
   "name": "python",
   "nbconvert_exporter": "python",
   "pygments_lexer": "ipython3",
   "version": "3.6.7"
  }
 },
 "nbformat": 4,
 "nbformat_minor": 2
}
